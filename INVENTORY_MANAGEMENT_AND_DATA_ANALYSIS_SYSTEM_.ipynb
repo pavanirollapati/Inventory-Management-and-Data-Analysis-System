{
  "nbformat": 4,
  "nbformat_minor": 0,
  "metadata": {
    "colab": {
      "provenance": []
    },
    "kernelspec": {
      "name": "python3",
      "display_name": "Python 3"
    },
    "language_info": {
      "name": "python"
    }
  },
  "cells": [
    {
      "cell_type": "code",
      "execution_count": null,
      "metadata": {
        "id": "4muPgHcNKMIb"
      },
      "outputs": [],
      "source": [
        "# PROJECT TITLE: \"INVENTORY MANAGEMENT AND DATA ANALYSIS SYSTEM\""
      ]
    },
    {
      "cell_type": "code",
      "source": [
        "# DEVELOP A PYTHON APPLICATION TO MANAGE INVENTORY FOR A RETAIL STORE AND ANALYZE SALES DATA.THE SYSTEM SHOULD ALLOW THE STORE TO TRACK PRODUCTS,\n",
        "# MANAGE STOCK, PROCESS, AND GENERATE ANALYTICAL INSIGHTS USING PANDAS AND NUMPY."
      ],
      "metadata": {
        "id": "pozXKvxZMBP2"
      },
      "execution_count": null,
      "outputs": []
    },
    {
      "cell_type": "code",
      "source": [
        "# FUNCTIONALITIES:\n",
        "\n",
        "# 1.OBJECT-ORIENTED DESIGN:\n",
        "#. CREATE CLASSES FOR PRODUCT,INVENTORY,SALES, AND STORE.\n",
        "# . IMPLEMENT METHODS FOR ADDING,UPDATING,DELETING, AND SEARCHING FOR PRODUCTS.\n",
        "\n",
        "# 2. FILE HANDLING:\n",
        "# STORE PRODUCT INFORMATION (ID,NAME,PRICE,QUANTITY) IN A FILE (PRODUCTS.CSV).\n",
        "# USE CSV FILE HANDLING TO READ/WRITE PRODUCT AND SALES DATA.\n",
        "# IMPLEMENT FEATURES TO BACKUP INVENTORY DATA IN A FILE AT REGULAR INTERVALS(USING DECORATORS).\n",
        "\n",
        "# 3.SALES PROCESSING:\n",
        "# MANAGE SALES BY UPDATING PRODUCT QUANTITIES AND TRACKING SALES IN A SEPERATE FILE(SALES.CSV)\n",
        "# SALES SHOULD BE RECORDED EITH DETAILS SUCH AS PRODUCT ID,NAME,QUANTITY SOLD,PRICE, AND TOTAL COST."
      ],
      "metadata": {
        "id": "IbatrHy8MtwC"
      },
      "execution_count": null,
      "outputs": []
    },
    {
      "cell_type": "code",
      "source": [],
      "metadata": {
        "id": "8e-YVCaoQH5Q"
      },
      "execution_count": null,
      "outputs": []
    },
    {
      "cell_type": "code",
      "source": [
        "import pandas as pd\n",
        "import numpy as np\n",
        "import datetime\n",
        "\n",
        "# Additional libraries for data visualization (optional):\n",
        "import matplotlib.pyplot as plt\n",
        "import seaborn as sns"
      ],
      "metadata": {
        "id": "vE8PVS4IQIYD"
      },
      "execution_count": 1,
      "outputs": []
    },
    {
      "cell_type": "code",
      "source": [
        "import csv\n",
        "import os\n",
        "import time\n",
        "\n",
        "\n",
        "# Product class to represent individual products in the inventory\n",
        "class Product:\n",
        "    def __init__(self, product_id, name, price, quantity):\n",
        "        self.product_id = product_id\n",
        "        self.name = name\n",
        "        self.price = price\n",
        "        self.quantity = quantity\n",
        "\n",
        "    def __str__(self):\n",
        "        return f\"ID: {self.product_id}, Name: {self.name}, Price: {self.price}, Quantity: {self.quantity}\"\n",
        "\n",
        "# Inventory class to handle product operations\n",
        "class Inventory:\n",
        "    def __init__(self, file_path='products.csv'):\n",
        "        self.file_path = file_path\n",
        "        self.products = self.load_products()\n",
        "\n",
        "    # Load products from CSV\n",
        "    def load_products(self):\n",
        "        products = []\n",
        "        if os.path.exists(self.file_path):\n",
        "            with open(self.file_path, mode='r') as file:\n",
        "                reader = csv.reader(file)\n",
        "                next(reader)  # Skip header row\n",
        "                for row in reader:\n",
        "                    products.append(Product(int(row[0]), row[1], float(row[2]), int(row[3])))\n",
        "        return products\n",
        "\n",
        "    # Save products to CSV\n",
        "    def save_products(self):\n",
        "        with open(self.file_path, mode='w', newline='') as file:\n",
        "            writer = csv.writer(file)\n",
        "            writer.writerow(['ID', 'Name', 'Price', 'Quantity'])\n",
        "            for product in self.products:\n",
        "                writer.writerow([product.product_id, product.name, product.price, product.quantity])\n",
        "\n",
        "    # Add a new product\n",
        "    def add_product(self, product):\n",
        "        self.products.append(product)\n",
        "        self.save_products()\n",
        "\n",
        "    # Update product quantity\n",
        "    def update_product(self, product_id, new_quantity):\n",
        "        for product in self.products:\n",
        "            if product.product_id == product_id:\n",
        "                product.quantity = new_quantity\n",
        "                break\n",
        "        self.save_products()\n",
        "\n",
        "    # Delete a product\n",
        "    def delete_product(self, product_id):\n",
        "        self.products = [product for product in self.products if product.product_id != product_id]\n",
        "        self.save_products()\n",
        "\n",
        "    # Search for a product by ID\n",
        "    def search_product(self, product_id):\n",
        "        for product in self.products:\n",
        "            if product.product_id == product_id:\n",
        "                return product\n",
        "        return None\n",
        "\n",
        "# Sales class to manage sales transactions\n",
        "class Sales:\n",
        "    def __init__(self, inventory, sales_file='sales.csv'):\n",
        "        self.inventory = inventory\n",
        "        self.sales_file = sales_file\n",
        "\n",
        "    # Record a sale\n",
        "    def record_sale(self, product_id, quantity_sold):\n",
        "        product = self.inventory.search_product(product_id)\n",
        "        if product and product.quantity >= quantity_sold:\n",
        "            total_price = quantity_sold * product.price\n",
        "            product.quantity -= quantity_sold\n",
        "            self.inventory.save_products()\n",
        "\n",
        "            # Append sale to CSV file\n",
        "            with open(self.sales_file, mode='a', newline='') as file:\n",
        "                writer = csv.writer(file)\n",
        "                if os.stat(self.sales_file).st_size == 0:\n",
        "                    writer.writerow(['Product ID', 'Product Name', 'Quantity Sold', 'Price', 'Total Price', 'Date'])\n",
        "                writer.writerow([product.product_id, product.name, quantity_sold, product.price, total_price, time.strftime('%Y-%m-%d %H:%M:%S')])\n",
        "\n",
        "            print(f\"Sale recorded: {quantity_sold} units of {product.name} sold.\")\n",
        "        else:\n",
        "            print(\"Insufficient stock or product not found.\")\n",
        "\n",
        "# Store class to handle the overall system\n",
        "class Store:\n",
        "    def __init__(self):\n",
        "        self.inventory = Inventory()\n",
        "        self.sales = Sales(self.inventory)\n",
        "\n",
        "    # Add a product\n",
        "    def add_product(self, product):\n",
        "        self.inventory.add_product(product)\n",
        "\n",
        "    # Update a product\n",
        "    def update_product(self, product_id, new_quantity):\n",
        "        self.inventory.update_product(product_id, new_quantity)\n",
        "\n",
        "    # Delete a product\n",
        "    def delete_product(self, product_id):\n",
        "        self.inventory.delete_product(product_id)\n",
        "\n",
        "    # Record a sale\n",
        "    def record_sale(self, product_id, quantity_sold):\n",
        "        self.sales.record_sale(product_id, quantity_sold)\n",
        "\n",
        "    # Search for a product\n",
        "    def search_product(self, product_id):\n",
        "        return self.inventory.search_product(product_id)\n",
        "\n",
        "# Example usage\n",
        "if __name__ == \"__main__\":\n",
        "    store = Store()\n",
        "\n",
        "    # Add products\n",
        "    store.add_product(Product(1, \"Laptop\", 1500, 10))\n",
        "    store.add_product(Product(2, \"Mouse\", 25, 100))\n",
        "    store.add_product(Product(3, \"Keyboard\", 50, 50))\n",
        "\n",
        "    # Update product quantity\n",
        "    store.update_product(1, 8)  # Update Laptop quantity to 8\n",
        "\n",
        "    # Delete a product\n",
        "    store.delete_product(3)  # Delete Keyboard\n",
        "\n",
        "    # Record sales\n",
        "    store.record_sale(1, 2)  # Sell 2 laptops\n",
        "\n",
        "    # Search for a product\n",
        "    product = store.search_product(1)\n",
        "    if product:\n",
        "        print(f\"Product found: {product}\")\n",
        "    else:\n",
        "        print(\"Product not found.\")"
      ],
      "metadata": {
        "colab": {
          "base_uri": "https://localhost:8080/"
        },
        "id": "QnsnOLQHQIqP",
        "outputId": "1403bd56-fc30-4cc7-b732-8fda9501ab4f"
      },
      "execution_count": 2,
      "outputs": [
        {
          "output_type": "stream",
          "name": "stdout",
          "text": [
            "Sale recorded: 2 units of Laptop sold.\n",
            "Product found: ID: 1, Name: Laptop, Price: 1500, Quantity: 6\n"
          ]
        }
      ]
    },
    {
      "cell_type": "code",
      "source": [
        "# DATA ANALYSIS USING PANDAS\n",
        "\n",
        "# LOAD THE SALES AND PRODUCT DATA USING PANDAS\n",
        "# GENERATE THE FOLLOWING INSIGHTS:\n",
        "# TOTAL SALES FOR EACH PRODUCT\n",
        "# DAILY,WEEKLY OR MONTHLY SALES TRENDS\n",
        "# FIND THE PRODUCT WITH THE HIGHEST SALES REVENUE"
      ],
      "metadata": {
        "id": "3nmUTjjzbX2I"
      },
      "execution_count": null,
      "outputs": []
    },
    {
      "cell_type": "code",
      "source": [
        "import pandas as pd\n",
        "import matplotlib.pyplot as plt\n",
        "\n",
        "# Load sales and product data using pandas\n",
        "def load_data(products_file='products.csv', sales_file='sales.csv'):\n",
        "    products_df = pd.read_csv(products_file)\n",
        "    sales_df = pd.read_csv(sales_file)\n",
        "    return products_df, sales_df\n",
        "\n",
        "# Calculate total sales for each product\n",
        "def total_sales_per_product(sales_df):\n",
        "    sales_df['Total Price'] = sales_df['Quantity Sold'] * sales_df['Price']\n",
        "    total_sales = sales_df.groupby('Product Name')['Total Price'].sum().reset_index()\n",
        "    total_sales = total_sales.sort_values(by='Total Price', ascending=False)\n",
        "    return total_sales\n",
        "\n",
        "# Generate sales trends\n",
        "def sales_trends(sales_df):\n",
        "    sales_df['Date'] = pd.to_datetime(sales_df['Date'])\n",
        "    sales_df.set_index('Date', inplace=True)\n",
        "\n",
        "    # Daily Sales\n",
        "    daily_sales = sales_df.resample('D').agg({'Total Price': 'sum'})\n",
        "\n",
        "    # Weekly Sales\n",
        "    weekly_sales = sales_df.resample('W').agg({'Total Price': 'sum'})\n",
        "\n",
        "    # Monthly Sales\n",
        "    monthly_sales = sales_df.resample('M').agg({'Total Price': 'sum'})\n",
        "\n",
        "    return daily_sales, weekly_sales, monthly_sales\n",
        "\n",
        "# Find the product with the highest sales revenue\n",
        "def highest_sales_revenue(sales_df):\n",
        "    sales_df['Total Price'] = sales_df['Quantity Sold'] * sales_df['Price']\n",
        "    highest_revenue_product = sales_df.groupby('Product Name')['Total Price'].sum().idxmax()\n",
        "    return highest_revenue_product\n",
        "\n",
        "# Main function to load data and generate insights\n",
        "def main():\n",
        "    products_df, sales_df = load_data()\n",
        "\n",
        "    # Calculate total sales for each product\n",
        "    total_sales = total_sales_per_product(sales_df)\n",
        "    print(\"Total Sales for Each Product:\")\n",
        "    print(total_sales)\n",
        "\n",
        "    # Generate sales trends\n",
        "    daily_sales, weekly_sales, monthly_sales = sales_trends(sales_df)\n",
        "\n",
        "    # Plot sales trends\n",
        "    plt.figure(figsize=(14, 7))\n",
        "\n",
        "    plt.subplot(3, 1, 1)\n",
        "    daily_sales.plot(y='Total Price', ax=plt.gca(), title='Daily Sales')\n",
        "\n",
        "    plt.subplot(3, 1, 2)\n",
        "    weekly_sales.plot(y='Total Price', ax=plt.gca(), title='Weekly Sales')\n",
        "\n",
        "    plt.subplot(3, 1, 3)\n",
        "    monthly_sales.plot(y='Total Price', ax=plt.gca(), title='Monthly Sales')\n",
        "\n",
        "    plt.tight_layout()\n",
        "    plt.show()\n",
        "\n",
        "    # Find product with the highest sales revenue\n",
        "    highest_revenue_product = highest_sales_revenue(sales_df)\n",
        "    print(f\"Product with the Highest Sales Revenue: {highest_revenue_product}\")\n",
        "\n",
        "if __name__ == \"__main__\":\n",
        "    main()"
      ],
      "metadata": {
        "colab": {
          "base_uri": "https://localhost:8080/",
          "height": 636
        },
        "id": "AZ6Sqo69WVPw",
        "outputId": "e30e0df5-7eeb-40c0-8b22-9baedd117083"
      },
      "execution_count": 3,
      "outputs": [
        {
          "output_type": "stream",
          "name": "stdout",
          "text": [
            "Total Sales for Each Product:\n",
            "  Product Name  Total Price\n",
            "0       Laptop         3000\n"
          ]
        },
        {
          "output_type": "stream",
          "name": "stderr",
          "text": [
            "/usr/local/lib/python3.10/dist-packages/pandas/plotting/_matplotlib/core.py:1409: UserWarning: Attempting to set identical low and high xlims makes transformation singular; automatically expanding.\n",
            "  ax.set_xlim(left, right)\n",
            "/usr/local/lib/python3.10/dist-packages/pandas/plotting/_matplotlib/core.py:1409: UserWarning: Attempting to set identical low and high xlims makes transformation singular; automatically expanding.\n",
            "  ax.set_xlim(left, right)\n",
            "/usr/local/lib/python3.10/dist-packages/pandas/plotting/_matplotlib/core.py:1409: UserWarning: Attempting to set identical low and high xlims makes transformation singular; automatically expanding.\n",
            "  ax.set_xlim(left, right)\n"
          ]
        },
        {
          "output_type": "display_data",
          "data": {
            "text/plain": [
              "<Figure size 1400x700 with 3 Axes>"
            ],
            "image/png": "[encoded data removed]"
          },
          "metadata": {}
        },
        {
          "output_type": "stream",
          "name": "stdout",
          "text": [
            "Product with the Highest Sales Revenue: Laptop\n"
          ]
        }
      ]
    },
    {
      "cell_type": "code",
      "source": [
        "# NUMPY-BASED CALCULATIONS\n",
        "\n",
        "# USE NUMPY TO CALCULATE THE TOTAL REVENUE FROM SALES.\n",
        "# PERFORM BASIC STATISTICS ON THE SALES DATA(e.g., AVERAGE SALES PER DAY,TOTAL STOCK VALUE).\n",
        "# PREDICT FUTURE STOCK NEEDS BASED ON HISTORICAL SALES DATA USING SIMPLE MOVING AVERAGES."
      ],
      "metadata": {
        "id": "HCjly7CXZ9T1"
      },
      "execution_count": null,
      "outputs": []
    },
    {
      "cell_type": "code",
      "source": [
        "class NumpyCalculations:\n",
        "    @staticmethod\n",
        "    def total_revenue(sales):\n",
        "        return np.sum(sales['Total Cost'])\n",
        "\n",
        "    @staticmethod\n",
        "    def average_sales_per_day(sales):\n",
        "        daily_sales = sales.groupby(sales['Sale Date'].dt.date)['Total Cost'].sum()\n",
        "        return np.mean(daily_sales)\n",
        "\n",
        "    @staticmethod\n",
        "    def moving_average_sales(sales, window=7):\n",
        "        daily_sales = sales.groupby(sales['Sale Date'].dt.date)['Total Cost'].sum()\n",
        "        return daily_sales.rolling(window=window).mean()\n",
        "\n",
        "    @staticmethod\n",
        "    def total_stock_value(products):\n",
        "        return np.sum(products['Price'] * products['Quantity'])"
      ],
      "metadata": {
        "id": "lZ5xvTX-bBt5"
      },
      "execution_count": 4,
      "outputs": []
    },
    {
      "cell_type": "code",
      "source": [
        "# TESTING AND DECORATORS\n",
        "\n",
        "# WRITE UNIT TESTS FOR THE CORE FUNCTIONALITIES(ADDING PRODUCTS,PROCESSING SALES).\n",
        "# IMPLEMENT A DECORATOR THAT LOGS ALL FUNCTION CALLS(e.g., ADDING PRODUCTS, MAKING SALES,GENERATING REPORTS)\n",
        "# INTO A LOG FILE."
      ],
      "metadata": {
        "id": "cWUR4QyZfJws"
      },
      "execution_count": null,
      "outputs": []
    },
    {
      "cell_type": "code",
      "source": [
        "import unittest\n",
        "\n",
        "class TestInventory(unittest.TestCase):\n",
        "    def test_add_product(self):\n",
        "        inventory = Inventory()\n",
        "        product = Product('001', 'Test Product', 10.0, 50)\n",
        "        inventory.add_product(product)\n",
        "        self.assertIn(product.to_dict(), inventory.read_products())\n",
        "\n",
        "    def test_update_product(self):\n",
        "        inventory = Inventory()\n",
        "        inventory.update_product('001', quantity=45)\n",
        "        product = inventory.search_product('001')\n",
        "        self.assertEqual(product['Quantity'], '45')\n",
        "\n",
        "    def test_record_sale(self):\n",
        "        sales = Sales()\n",
        "        inventory = Inventory()\n",
        "        product = inventory.search_product('001')\n",
        "        sales.record_sale(product, 5)\n",
        "        updated_product = inventory.search_product('001')\n",
        "        self.assertEqual(int(updated_product['Quantity']), int(product['Quantity']) - 5)\n",
        "\n",
        "if __name__ == '__main__':\n",
        "    unittest.main()\n"
      ],
      "metadata": {
        "colab": {
          "base_uri": "https://localhost:8080/",
          "height": 317
        },
        "collapsed": true,
        "id": "oWqvwV2rtMtn",
        "outputId": "bbc6b111-c26a-432a-c633-947944739773"
      },
      "execution_count": 54,
      "outputs": [
        {
          "output_type": "stream",
          "name": "stderr",
          "text": [
            "E\n",
            "======================================================================\n",
            "ERROR: /root/ (unittest.loader._FailedTest)\n",
            "----------------------------------------------------------------------\n",
            "AttributeError: module '__main__' has no attribute '/root/'\n",
            "\n",
            "----------------------------------------------------------------------\n",
            "Ran 1 test in 0.002s\n",
            "\n",
            "FAILED (errors=1)\n"
          ]
        },
        {
          "output_type": "error",
          "ename": "SystemExit",
          "evalue": "True",
          "traceback": [
            "An exception has occurred, use %tb to see the full traceback.\n",
            "\u001b[0;31mSystemExit\u001b[0m\u001b[0;31m:\u001b[0m True\n"
          ]
        },
        {
          "output_type": "stream",
          "name": "stderr",
          "text": [
            "/usr/local/lib/python3.10/dist-packages/IPython/core/interactiveshell.py:3561: UserWarning: To exit: use 'exit', 'quit', or Ctrl-D.\n",
            "  warn(\"To exit: use 'exit', 'quit', or Ctrl-D.\", stacklevel=1)\n"
          ]
        }
      ]
    },
    {
      "cell_type": "code",
      "source": [],
      "metadata": {
        "id": "Q-_Ck4MjXTiN"
      },
      "execution_count": null,
      "outputs": []
    }
  ]
}